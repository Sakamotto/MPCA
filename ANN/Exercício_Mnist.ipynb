{
  "nbformat": 4,
  "nbformat_minor": 0,
  "metadata": {
    "colab": {
      "provenance": [],
      "gpuType": "T4",
      "authorship_tag": "ABX9TyPIangwCSqNhV3IafZ6ahZ5",
      "include_colab_link": true
    },
    "kernelspec": {
      "name": "python3",
      "display_name": "Python 3"
    },
    "language_info": {
      "name": "python"
    },
    "accelerator": "GPU"
  },
  "cells": [
    {
      "cell_type": "markdown",
      "metadata": {
        "id": "view-in-github",
        "colab_type": "text"
      },
      "source": [
        "<a href=\"https://colab.research.google.com/github/Sakamotto/MPCA/blob/main/ANN/Exerc%C3%ADcio_Mnist.ipynb\" target=\"_parent\"><img src=\"https://colab.research.google.com/assets/colab-badge.svg\" alt=\"Open In Colab\"/></a>"
      ]
    },
    {
      "cell_type": "code",
      "source": [
        "!pip install idx2numpy"
      ],
      "metadata": {
        "id": "wMLTgaAbJToU"
      },
      "execution_count": null,
      "outputs": []
    },
    {
      "cell_type": "code",
      "source": [
        "import idx2numpy\n",
        "import torch\n",
        "from torch.utils.data import TensorDataset, DataLoader\n",
        "import torch.nn as nn\n",
        "import torch.nn.functional as F\n",
        "import torch.optim as optim\n",
        "import matplotlib.pyplot as plt"
      ],
      "metadata": {
        "id": "gveIzVfX16j0"
      },
      "execution_count": 2,
      "outputs": []
    },
    {
      "cell_type": "code",
      "source": [
        "train_images = idx2numpy.convert_from_file(\"train-images.idx3-ubyte\")\n",
        "train_labels = idx2numpy.convert_from_file(\"train-labels.idx1-ubyte\")\n",
        "test_images = idx2numpy.convert_from_file(\"t10k-images.idx3-ubyte\")\n",
        "test_labels = idx2numpy.convert_from_file(\"t10k-labels.idx1-ubyte\")"
      ],
      "metadata": {
        "id": "G4xTe4AK3alp"
      },
      "execution_count": 3,
      "outputs": []
    },
    {
      "cell_type": "code",
      "source": [
        "print(\"Shape of train_images:\", train_images.shape)\n",
        "print(\"Shape of train_labels:\", train_labels.shape)\n",
        "print(\"Shape of test_images:\", test_images.shape)\n",
        "print(\"Shape of test_labels:\", test_labels.shape)"
      ],
      "metadata": {
        "colab": {
          "base_uri": "https://localhost:8080/"
        },
        "id": "F4miKXqE4TGM",
        "outputId": "555215a1-b07e-47f4-cf1f-d51f6afb0273"
      },
      "execution_count": 4,
      "outputs": [
        {
          "output_type": "stream",
          "name": "stdout",
          "text": [
            "Shape of train_images: (60000, 28, 28)\n",
            "Shape of train_labels: (60000,)\n",
            "Shape of test_images: (10000, 28, 28)\n",
            "Shape of test_labels: (10000,)\n"
          ]
        }
      ]
    },
    {
      "cell_type": "code",
      "source": [
        "# primeiro adiciona uma nova dimensão na posição 1 usando unsqueeze e depois normaliza\n",
        "# dividindo por 255\n",
        "train_images = torch.tensor(train_images, dtype=torch.float32).unsqueeze(1) / 255.0\n",
        "test_images = torch.tensor(test_images, dtype=torch.float32).unsqueeze(1) / 255.0\n",
        "train_labels = torch.tensor(train_labels, dtype=torch.long)\n",
        "test_labels = torch.tensor(test_labels, dtype=torch.long)\n",
        "\n",
        "train_dataset = TensorDataset(train_images, train_labels)\n",
        "test_dataset = TensorDataset(test_images, test_labels)\n",
        "train_loader = DataLoader(train_dataset, batch_size=64, shuffle=True)\n",
        "test_loader = DataLoader(test_dataset, batch_size=64, shuffle=False)"
      ],
      "metadata": {
        "id": "OcYw11Nf4AbL"
      },
      "execution_count": 5,
      "outputs": []
    },
    {
      "cell_type": "code",
      "source": [
        "print(\"Shape train_images:\", train_images.shape)\n",
        "print(\"Shape train_labels:\", train_labels.shape)\n",
        "print(\"Shape test_images:\", test_images.shape)\n",
        "print(\"Shape test_labels:\", test_labels.shape)\n",
        "\n",
        "plt.imshow(train_images[0][0], cmap='gray')\n",
        "plt.show()"
      ],
      "metadata": {
        "colab": {
          "base_uri": "https://localhost:8080/",
          "height": 499
        },
        "id": "g5M3DbVt388T",
        "outputId": "023ee022-cfec-45a5-d0f4-7383155eaa85"
      },
      "execution_count": 6,
      "outputs": [
        {
          "output_type": "stream",
          "name": "stdout",
          "text": [
            "Shape train_images: torch.Size([60000, 1, 28, 28])\n",
            "Shape train_labels: torch.Size([60000])\n",
            "Shape test_images: torch.Size([10000, 1, 28, 28])\n",
            "Shape test_labels: torch.Size([10000])\n"
          ]
        },
        {
          "output_type": "display_data",
          "data": {
            "text/plain": [
              "<Figure size 640x480 with 1 Axes>"
            ],
            "image/png": "[encoded data removed]"
          },
          "metadata": {}
        }
      ]
    },
    {
      "cell_type": "code",
      "source": [
        "# primeiro só uma cnn simples\n",
        "class CNN(nn.Module):\n",
        "    def __init__(self):\n",
        "        super().__init__()\n",
        "        self.conv1 = nn.Conv2d(1, 32, kernel_size=3, padding=1)\n",
        "        self.conv2 = nn.Conv2d(32, 64, kernel_size=3, padding=1)\n",
        "        self.pool = nn.MaxPool2d(2, 2)\n",
        "        self.fc1 = nn.Linear(64 * 7 * 7, 128)\n",
        "        self.fc2 = nn.Linear(128, 10)\n",
        "\n",
        "    def forward(self, x):\n",
        "        x = self.pool(F.relu(self.conv1(x)))  # 28x28 -> 14x14\n",
        "        x = self.pool(F.relu(self.conv2(x)))  # 14x14 -> 7x7\n",
        "        x = x.view(-1, 64 * 7 * 7)\n",
        "        x = F.relu(self.fc1(x))\n",
        "        return self.fc2(x)"
      ],
      "metadata": {
        "id": "460hUDf051bl"
      },
      "execution_count": 7,
      "outputs": []
    },
    {
      "cell_type": "code",
      "source": [
        "# treinamento\n",
        "device = torch.device(\"cuda\" if torch.cuda.is_available() else \"cpu\")\n",
        "model = CNN().to(device)\n",
        "optimizer = optim.Adam(model.parameters(), lr=0.001)\n",
        "criterion = nn.CrossEntropyLoss()\n",
        "\n",
        "for epoch in range(5):\n",
        "    model.train()\n",
        "    for images, labels in train_loader:\n",
        "        images, labels = images.to(device), labels.to(device)\n",
        "        optimizer.zero_grad()\n",
        "        outputs = model(images)\n",
        "        loss = criterion(outputs, labels)\n",
        "        loss.backward()\n",
        "        optimizer.step()\n",
        "    print(f\"Época {epoch+1} concluída.\")\n",
        "\n",
        "model.eval()\n",
        "correct = 0\n",
        "total = 0\n",
        "with torch.no_grad():\n",
        "    for images, labels in test_loader:\n",
        "        images, labels = images.to(device), labels.to(device)\n",
        "        outputs = model(images)\n",
        "        _, predicted = torch.max(outputs, 1)\n",
        "        total += labels.size(0)\n",
        "        correct += (predicted == labels).sum().item()\n",
        "\n",
        "print(f\"Acurácia no teste: {100 * correct / total:.2f}%\")"
      ],
      "metadata": {
        "colab": {
          "base_uri": "https://localhost:8080/"
        },
        "id": "TtgdCodY7Od6",
        "outputId": "07f4cbdd-8de4-4e7a-f32b-644f49675c10"
      },
      "execution_count": 8,
      "outputs": [
        {
          "output_type": "stream",
          "name": "stdout",
          "text": [
            "Época 1 concluída.\n",
            "Época 2 concluída.\n",
            "Época 3 concluída.\n",
            "Época 4 concluída.\n",
            "Época 5 concluída.\n",
            "Acurácia no teste: 99.11%\n"
          ]
        }
      ]
    },
    {
      "cell_type": "code",
      "source": [
        "# treinamento usando uma learning rate menor\n",
        "device = torch.device(\"cuda\" if torch.cuda.is_available() else \"cpu\")\n",
        "model = CNN().to(device)\n",
        "optimizer = optim.Adam(model.parameters(), lr=0.0001)\n",
        "criterion = nn.CrossEntropyLoss()\n",
        "\n",
        "for epoch in range(5):\n",
        "    model.train()\n",
        "    for images, labels in train_loader:\n",
        "        images, labels = images.to(device), labels.to(device)\n",
        "        optimizer.zero_grad()\n",
        "        outputs = model(images)\n",
        "        loss = criterion(outputs, labels)\n",
        "        loss.backward()\n",
        "        optimizer.step()\n",
        "    print(f\"Época {epoch+1} concluída.\")\n",
        "\n",
        "model.eval()\n",
        "correct = 0\n",
        "total = 0\n",
        "with torch.no_grad():\n",
        "    for images, labels in test_loader:\n",
        "        images, labels = images.to(device), labels.to(device)\n",
        "        outputs = model(images)\n",
        "        _, predicted = torch.max(outputs, 1)\n",
        "        total += labels.size(0)\n",
        "        correct += (predicted == labels).sum().item()\n",
        "\n",
        "print(f\"Acurácia no teste: {100 * correct / total:.2f}%\")"
      ],
      "metadata": {
        "colab": {
          "base_uri": "https://localhost:8080/"
        },
        "id": "dJJOV4sq6j5r",
        "outputId": "29b08454-32d3-43fd-e6de-a55e9ac3af4e"
      },
      "execution_count": 9,
      "outputs": [
        {
          "output_type": "stream",
          "name": "stdout",
          "text": [
            "Época 1 concluída.\n",
            "Época 2 concluída.\n",
            "Época 3 concluída.\n",
            "Época 4 concluída.\n",
            "Época 5 concluída.\n",
            "Acurácia no teste: 97.95%\n"
          ]
        }
      ]
    },
    {
      "cell_type": "code",
      "source": [
        "# treinamento usando uma learning rate menor e mais épocas\n",
        "device = torch.device(\"cuda\" if torch.cuda.is_available() else \"cpu\")\n",
        "model = CNN().to(device)\n",
        "optimizer = optim.Adam(model.parameters(), lr=0.0001)\n",
        "criterion = nn.CrossEntropyLoss()\n",
        "\n",
        "for epoch in range(100):\n",
        "    model.train()\n",
        "    for images, labels in train_loader:\n",
        "        images, labels = images.to(device), labels.to(device)\n",
        "        optimizer.zero_grad()\n",
        "        outputs = model(images)\n",
        "        loss = criterion(outputs, labels)\n",
        "        loss.backward()\n",
        "        optimizer.step()\n",
        "    print(f\"Época {epoch+1} concluída.\")\n",
        "\n",
        "model.eval()\n",
        "correct = 0\n",
        "total = 0\n",
        "with torch.no_grad():\n",
        "    for images, labels in test_loader:\n",
        "        images, labels = images.to(device), labels.to(device)\n",
        "        outputs = model(images)\n",
        "        _, predicted = torch.max(outputs, 1)\n",
        "        total += labels.size(0)\n",
        "        correct += (predicted == labels).sum().item()\n",
        "\n",
        "print(f\"Acurácia no teste: {100 * correct / total:.2f}%\")"
      ],
      "metadata": {
        "colab": {
          "base_uri": "https://localhost:8080/"
        },
        "id": "wY-fi3Tl7-2l",
        "outputId": "4e0327dc-763b-401c-a437-6f9832aab8fb"
      },
      "execution_count": 11,
      "outputs": [
        {
          "output_type": "stream",
          "name": "stdout",
          "text": [
            "Época 1 concluída.\n",
            "Época 2 concluída.\n",
            "Época 3 concluída.\n",
            "Época 4 concluída.\n",
            "Época 5 concluída.\n",
            "Época 6 concluída.\n",
            "Época 7 concluída.\n",
            "Época 8 concluída.\n",
            "Época 9 concluída.\n",
            "Época 10 concluída.\n",
            "Época 11 concluída.\n",
            "Época 12 concluída.\n",
            "Época 13 concluída.\n",
            "Época 14 concluída.\n",
            "Época 15 concluída.\n",
            "Época 16 concluída.\n",
            "Época 17 concluída.\n",
            "Época 18 concluída.\n",
            "Época 19 concluída.\n",
            "Época 20 concluída.\n",
            "Época 21 concluída.\n",
            "Época 22 concluída.\n",
            "Época 23 concluída.\n",
            "Época 24 concluída.\n",
            "Época 25 concluída.\n",
            "Época 26 concluída.\n",
            "Época 27 concluída.\n",
            "Época 28 concluída.\n",
            "Época 29 concluída.\n",
            "Época 30 concluída.\n",
            "Época 31 concluída.\n",
            "Época 32 concluída.\n",
            "Época 33 concluída.\n",
            "Época 34 concluída.\n",
            "Época 35 concluída.\n",
            "Época 36 concluída.\n",
            "Época 37 concluída.\n",
            "Época 38 concluída.\n",
            "Época 39 concluída.\n",
            "Época 40 concluída.\n",
            "Época 41 concluída.\n",
            "Época 42 concluída.\n",
            "Época 43 concluída.\n",
            "Época 44 concluída.\n",
            "Época 45 concluída.\n",
            "Época 46 concluída.\n",
            "Época 47 concluída.\n",
            "Época 48 concluída.\n",
            "Época 49 concluída.\n",
            "Época 50 concluída.\n",
            "Época 51 concluída.\n",
            "Época 52 concluída.\n",
            "Época 53 concluída.\n",
            "Época 54 concluída.\n",
            "Época 55 concluída.\n",
            "Época 56 concluída.\n",
            "Época 57 concluída.\n",
            "Época 58 concluída.\n",
            "Época 59 concluída.\n",
            "Época 60 concluída.\n",
            "Época 61 concluída.\n",
            "Época 62 concluída.\n",
            "Época 63 concluída.\n",
            "Época 64 concluída.\n",
            "Época 65 concluída.\n",
            "Época 66 concluída.\n",
            "Época 67 concluída.\n",
            "Época 68 concluída.\n",
            "Época 69 concluída.\n",
            "Época 70 concluída.\n",
            "Época 71 concluída.\n",
            "Época 72 concluída.\n",
            "Época 73 concluída.\n",
            "Época 74 concluída.\n",
            "Época 75 concluída.\n",
            "Época 76 concluída.\n",
            "Época 77 concluída.\n",
            "Época 78 concluída.\n",
            "Época 79 concluída.\n",
            "Época 80 concluída.\n",
            "Época 81 concluída.\n",
            "Época 82 concluída.\n",
            "Época 83 concluída.\n",
            "Época 84 concluída.\n",
            "Época 85 concluída.\n",
            "Época 86 concluída.\n",
            "Época 87 concluída.\n",
            "Época 88 concluída.\n",
            "Época 89 concluída.\n",
            "Época 90 concluída.\n",
            "Época 91 concluída.\n",
            "Época 92 concluída.\n",
            "Época 93 concluída.\n",
            "Época 94 concluída.\n",
            "Época 95 concluída.\n",
            "Época 96 concluída.\n",
            "Época 97 concluída.\n",
            "Época 98 concluída.\n",
            "Época 99 concluída.\n",
            "Época 100 concluída.\n",
            "Acurácia no teste: 99.05%\n"
          ]
        }
      ]
    }
  ]
}