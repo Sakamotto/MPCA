{
  "nbformat": 4,
  "nbformat_minor": 0,
  "metadata": {
    "colab": {
      "provenance": [],
      "authorship_tag": "ABX9TyMCXN86JI5foCSP8as6Qo35",
      "include_colab_link": true
    },
    "kernelspec": {
      "name": "python3",
      "display_name": "Python 3"
    },
    "language_info": {
      "name": "python"
    }
  },
  "cells": [
    {
      "cell_type": "markdown",
      "metadata": {
        "id": "view-in-github",
        "colab_type": "text"
      },
      "source": [
        "<a href=\"https://colab.research.google.com/github/Sakamotto/MPCA/blob/main/ANN/NLP_IMDB.ipynb\" target=\"_parent\"><img src=\"https://colab.research.google.com/assets/colab-badge.svg\" alt=\"Open In Colab\"/></a>"
      ]
    },
    {
      "cell_type": "code",
      "execution_count": 1,
      "metadata": {
        "colab": {
          "base_uri": "https://localhost:8080/"
        },
        "id": "ijcWOnm6y0QO",
        "outputId": "28d90222-0b60-44cd-dbbb-27b705421ffe"
      },
      "outputs": [
        {
          "output_type": "stream",
          "name": "stdout",
          "text": [
            "  % Total    % Received % Xferd  Average Speed   Time    Time     Time  Current\n",
            "                                 Dload  Upload   Total   Spent    Left  Speed\n",
            "100 80.2M  100 80.2M    0     0  2080k      0  0:00:39  0:00:39 --:--:-- 1834k\n",
            "I first saw this back in the early 90s on UK TV, i did like it then but i missed the chance to tape it, many years passed but the film always stuck with me and i lost hope of seeing it TV again, the main thing that stuck with me was the end, the hole castle part really touched me, its easy to watch, has a great story, great music, the list goes on and on, its OK me saying how good it is but everyone will take there own best bits away with them once they have seen it, yes the animation is top notch and beautiful to watch, it does show its age in a very few parts but that has now become part of it beauty, i am so glad it has came out on DVD as it is one of my top 10 films of all time. Buy it or rent it just see it, best viewing is at night alone with drink and food in reach so you don't have to stop the film.<br /><br />Enjoy"
          ]
        }
      ],
      "source": [
        "!curl -O https://ai.stanford.edu/~amaas/data/sentiment/aclImdb_v1.tar.gz\n",
        "!tar -xf aclImdb_v1.tar.gz\n",
        "!rm -r aclImdb/train/unsup\n",
        "!cat aclImdb/train/pos/4077_10.txt"
      ]
    },
    {
      "cell_type": "code",
      "source": [
        "import os, pathlib, shutil, random\n",
        "base_dir = pathlib.Path(\"aclImdb\")\n",
        "train_dir = base_dir / \"train\"\n",
        "val_dir = base_dir / \"val\"\n",
        "test_dir = base_dir / \"test\"\n",
        "for category in [\"pos\", \"neg\"]:\n",
        "  os.makedirs(val_dir / category)\n",
        "  files = os.listdir(train_dir / category)\n",
        "  random.shuffle(files)\n",
        "  num_val_samples = int(0.2 * len(files))\n",
        "  val_files = files[-num_val_samples:]\n",
        "  for fname in val_files:\n",
        "    shutil.move(train_dir / category / fname, val_dir / category / fname)"
      ],
      "metadata": {
        "id": "IhxBgfXVzDZm"
      },
      "execution_count": 2,
      "outputs": []
    },
    {
      "cell_type": "code",
      "source": [
        "from tensorflow import keras\n",
        "batch_size = 32\n",
        "train_ds = keras.utils.text_dataset_from_directory(\n",
        "    \"aclImdb/train\", batch_size=batch_size)\n",
        "val_ds = keras.utils.text_dataset_from_directory(\n",
        "    \"aclImdb/val\", batch_size=batch_size)\n",
        "test_ds = keras.utils.text_dataset_from_directory(\n",
        "    \"aclImdb/test\", batch_size=batch_size)"
      ],
      "metadata": {
        "colab": {
          "base_uri": "https://localhost:8080/"
        },
        "id": "wJbflD4Sz1cd",
        "outputId": "f88c6f8c-1088-4498-ab3d-c0c263f72ab4"
      },
      "execution_count": 5,
      "outputs": [
        {
          "output_type": "stream",
          "name": "stdout",
          "text": [
            "Found 20000 files belonging to 2 classes.\n",
            "Found 5000 files belonging to 2 classes.\n",
            "Found 25000 files belonging to 2 classes.\n"
          ]
        }
      ]
    },
    {
      "cell_type": "code",
      "source": [
        "from transformers import pipeline\n",
        "from sklearn.metrics import accuracy_score\n",
        "import numpy as np\n",
        "import time"
      ],
      "metadata": {
        "id": "MaTX2fvezYdC"
      },
      "execution_count": 6,
      "outputs": []
    },
    {
      "cell_type": "code",
      "source": [
        "# se não especifidar o modelo, o default é distilbert/distilbert-base-uncased-finetuned-sst-2-english\n",
        "pipeline_sentiment = pipeline(\"sentiment-analysis\")"
      ],
      "metadata": {
        "id": "bOzkFGSvzjBz"
      },
      "execution_count": null,
      "outputs": []
    },
    {
      "cell_type": "code",
      "source": [
        "pipeline_sentiment(\"I first saw this back in the early 90s on UK TV, i did like it then but i missed the chance to tape it, many years passed but the film always stuck with me and i lost hope of seeing it TV again, the main thing that stuck with me was the end, the hole castle part really touched me, its easy to watch, has a great story, great music, the list goes on and on, its OK me saying how good it is but everyone will take there own best bits away with them once they have seen it, yes the animation is top notch and beautiful to watch, it does show its age in a very few parts but that has now become part of it beauty, i am so glad it has came out on DVD as it is one of my top 10 films of all time. Buy it or rent it just see it, best viewing is at night alone with drink and food in reach so you don't have to stop the film.<br /><br />Enjoy\")"
      ],
      "metadata": {
        "colab": {
          "base_uri": "https://localhost:8080/"
        },
        "id": "VoA64CorzpSC",
        "outputId": "0fc1ce78-ec93-45e8-c2ea-2c5cc9b9da72"
      },
      "execution_count": 7,
      "outputs": [
        {
          "output_type": "execute_result",
          "data": {
            "text/plain": [
              "[{'label': 'POSITIVE', 'score': 0.9965364933013916}]"
            ]
          },
          "metadata": {},
          "execution_count": 7
        }
      ]
    },
    {
      "cell_type": "code",
      "source": [
        "ypred = []\n",
        "test_labels = []\n",
        "start = time.time()\n",
        "for batch, (inputs, targets) in enumerate(test_ds):\n",
        "  for i in range(len(inputs)):\n",
        "    yp = pipeline_sentiment(inputs[i].numpy().decode('UTF-8')[:512])\n",
        "    test_labels.append(int(targets[i].numpy()==1))\n",
        "    ypred.append(int(yp[0]['label']==\"LABEL_1\"))\n",
        "  print(batch, time.time()-start, accuracy_score(test_labels, ypred))"
      ],
      "metadata": {
        "colab": {
          "base_uri": "https://localhost:8080/"
        },
        "id": "Yvowiv9G0SYx",
        "outputId": "0e9a1c26-a3c4-44b3-c4b5-bf7306739633"
      },
      "execution_count": null,
      "outputs": [
        {
          "output_type": "stream",
          "name": "stdout",
          "text": [
            "0 11.437420845031738 0.4375\n",
            "1 20.27292037010193 0.484375\n",
            "2 28.233882427215576 0.4375\n",
            "3 36.73539876937866 0.4453125\n",
            "4 45.718985080718994 0.45625\n",
            "5 53.47245407104492 0.5\n",
            "6 65.40925979614258 0.5089285714285714\n",
            "7 74.54191565513611 0.50390625\n",
            "8 83.22569012641907 0.5034722222222222\n",
            "9 100.4529197216034 0.503125\n",
            "10 109.21455931663513 0.5227272727272727\n",
            "11 116.75405764579773 0.5130208333333334\n",
            "12 125.49844336509705 0.5192307692307693\n",
            "13 133.66729378700256 0.5133928571428571\n",
            "14 142.08704280853271 0.5229166666666667\n",
            "15 151.87572407722473 0.525390625\n",
            "16 159.4680368900299 0.5257352941176471\n",
            "17 172.40357184410095 0.5208333333333334\n",
            "18 181.1691596508026 0.5263157894736842\n",
            "19 189.47607898712158 0.5171875\n",
            "20 197.5851674079895 0.5119047619047619\n",
            "21 210.09012651443481 0.5184659090909091\n",
            "22 218.91885042190552 0.5190217391304348\n",
            "23 226.7114531993866 0.5208333333333334\n",
            "24 235.74872064590454 0.52375\n",
            "25 244.3295133113861 0.5228365384615384\n",
            "26 252.19159078598022 0.5219907407407407\n",
            "27 263.61508536338806 0.5223214285714286\n",
            "28 279.27004885673523 0.521551724137931\n",
            "29 288.25319385528564 0.521875\n",
            "30 297.24747109413147 0.5231854838709677\n"
          ]
        }
      ]
    },
    {
      "cell_type": "code",
      "source": [],
      "metadata": {
        "id": "RnoDq5rE0cHR"
      },
      "execution_count": null,
      "outputs": []
    }
  ]
}